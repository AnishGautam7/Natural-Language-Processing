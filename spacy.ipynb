{
 "cells": [
  {
   "cell_type": "code",
   "execution_count": 81,
   "id": "37c91178-f15e-4adc-ad1e-6ea5e570b41c",
   "metadata": {},
   "outputs": [],
   "source": [
    "import nltk"
   ]
  },
  {
   "cell_type": "code",
   "execution_count": null,
   "id": "42f54695-f88c-4185-8107-467948256112",
   "metadata": {},
   "outputs": [],
   "source": []
  },
  {
   "cell_type": "code",
   "execution_count": 82,
   "id": "fb52d813-1934-4ef9-acfb-9600aa4b43c0",
   "metadata": {},
   "outputs": [],
   "source": [
    "import spacy"
   ]
  },
  {
   "cell_type": "code",
   "execution_count": 83,
   "id": "03541221-0d19-420a-aea9-f73cc4c52f72",
   "metadata": {},
   "outputs": [],
   "source": [
    "nlp = spacy.load(\"en_core_web_sm\") # Another version en_core_web_md"
   ]
  },
  {
   "cell_type": "code",
   "execution_count": 84,
   "id": "4b3b0b6b-7cd0-43b3-86e1-e72909df9015",
   "metadata": {},
   "outputs": [],
   "source": [
    "text = nlp(\"This text is only for practise purpose and not for any other intention\")"
   ]
  },
  {
   "cell_type": "code",
   "execution_count": 85,
   "id": "8aeb01e2-59fc-4541-a7e4-215165346e85",
   "metadata": {},
   "outputs": [],
   "source": [
    "doc = nlp(text)"
   ]
  },
  {
   "cell_type": "code",
   "execution_count": 86,
   "id": "0b0ee34f-9841-4019-b799-fcbb08d1ef98",
   "metadata": {
    "scrolled": true
   },
   "outputs": [
    {
     "name": "stdout",
     "output_type": "stream",
     "text": [
      "['_', '__bytes__', '__class__', '__delattr__', '__dir__', '__doc__', '__eq__', '__format__', '__ge__', '__getattribute__', '__getitem__', '__gt__', '__hash__', '__init__', '__init_subclass__', '__iter__', '__le__', '__len__', '__lt__', '__ne__', '__new__', '__pyx_vtable__', '__reduce__', '__reduce_ex__', '__repr__', '__setattr__', '__setstate__', '__sizeof__', '__str__', '__subclasshook__', '__unicode__', '_bulk_merge', '_context', '_get_array_attrs', '_realloc', '_vector', '_vector_norm', 'cats', 'char_span', 'copy', 'count_by', 'doc', 'ents', 'extend_tensor', 'from_array', 'from_bytes', 'from_dict', 'from_disk', 'from_docs', 'from_json', 'get_extension', 'get_lca_matrix', 'has_annotation', 'has_extension', 'has_unknown_spaces', 'has_vector', 'is_nered', 'is_parsed', 'is_sentenced', 'is_tagged', 'lang', 'lang_', 'mem', 'noun_chunks', 'noun_chunks_iterator', 'remove_extension', 'retokenize', 'sentiment', 'sents', 'set_ents', 'set_extension', 'similarity', 'spans', 'tensor', 'text', 'text_with_ws', 'to_array', 'to_bytes', 'to_dict', 'to_disk', 'to_json', 'to_utf8_array', 'user_data', 'user_hooks', 'user_span_hooks', 'user_token_hooks', 'vector', 'vector_norm', 'vocab']\n"
     ]
    }
   ],
   "source": [
    "print(dir(doc))"
   ]
  },
  {
   "cell_type": "code",
   "execution_count": 87,
   "id": "51390789-9c66-4002-b3a1-20966a66f955",
   "metadata": {},
   "outputs": [
    {
     "name": "stderr",
     "output_type": "stream",
     "text": [
      "C:\\Users\\Alish Gautam\\AppData\\Local\\Temp\\ipykernel_11376\\4171547482.py:1: DeprecationWarning: Importing display from IPython.core.display is deprecated since IPython 7.14, please import from IPython.display\n",
      "  from IPython.core.display import display, HTML\n"
     ]
    },
    {
     "data": {
      "text/html": [
       "<iframe src=https://spacy.io/images/pipeline.svg width=1000 height=100></iframe>"
      ],
      "text/plain": [
       "<IPython.core.display.HTML object>"
      ]
     },
     "execution_count": 87,
     "metadata": {},
     "output_type": "execute_result"
    }
   ],
   "source": [
    "from IPython.core.display import display, HTML\n",
    "# SpaCy pipeline\n",
    "spacy_url = 'https://spacy.io/images/pipeline.svg'\n",
    "iframe = '<iframe src={} width=1000 height=100></iframe>'.format(spacy_url)\n",
    "HTML(iframe)"
   ]
  },
  {
   "cell_type": "code",
   "execution_count": 88,
   "id": "bda1e473-4e76-4d73-a0de-c8809d88e1a8",
   "metadata": {},
   "outputs": [],
   "source": [
    "text = 'This is the greatest movie of all time and i loved it !'\n",
    "doc = nlp(text)"
   ]
  },
  {
   "cell_type": "code",
   "execution_count": null,
   "id": "d63562a3-ad6e-4f14-b9ae-db30ae24bd5c",
   "metadata": {},
   "outputs": [],
   "source": []
  },
  {
   "cell_type": "code",
   "execution_count": 89,
   "id": "a23f2121-679e-4743-a025-f500749f2032",
   "metadata": {},
   "outputs": [
    {
     "name": "stdout",
     "output_type": "stream",
     "text": [
      "TEXT            | LEMMA_          | POS_     | TAG_     | DEP_        | SHAPE_   | IS_ALPHA | IS_STOP \n",
      "This            | this            | PRON     | DT       | nsubj       | Xxxx     | True     | True    \n",
      "is              | be              | AUX      | VBZ      | ROOT        | xx       | True     | True    \n",
      "the             | the             | DET      | DT       | det         | xxx      | True     | True    \n",
      "greatest        | great           | ADJ      | JJS      | amod        | xxxx     | True     | False   \n",
      "movie           | movie           | NOUN     | NN       | attr        | xxxx     | True     | False   \n",
      "of              | of              | ADP      | IN       | prep        | xx       | True     | True    \n",
      "all             | all             | DET      | DT       | det         | xxx      | True     | True    \n",
      "time            | time            | NOUN     | NN       | pobj        | xxxx     | True     | False   \n",
      "and             | and             | CCONJ    | CC       | cc          | xxx      | True     | True    \n",
      "i               | I               | PRON     | PRP      | nsubj       | x        | True     | True    \n",
      "loved           | love            | VERB     | VBD      | conj        | xxxx     | True     | False   \n",
      "it              | it              | PRON     | PRP      | dobj        | xx       | True     | True    \n",
      "!               | !               | PUNCT    | .        | punct       | !        | False    | False   \n"
     ]
    }
   ],
   "source": [
    "print('{:15} | {:15} | {:8} | {:8} | {:11} | {:8} | {:8} | {:8}'.format(\"TEXT\", \"LEMMA_\", 'POS_', 'TAG_', 'DEP_', 'SHAPE_', 'IS_ALPHA', 'IS_STOP'))\n",
    "\n",
    "for token in doc:\n",
    "    print('{:15} | {:15} | {:8} | {:8} | {:11} | {:8} | {:8} | {:8}'.format(\n",
    "        token.text,\n",
    "        token.lemma_,\n",
    "        token.pos_,\n",
    "        token.tag_,\n",
    "        token.dep_,\n",
    "        token.shape_,\n",
    "        str(token.is_alpha),\n",
    "        str(token.is_stop)\n",
    "    ))\n"
   ]
  },
  {
   "cell_type": "code",
   "execution_count": null,
   "id": "0d5cd2d9-bb76-47cb-9af6-563bf595a203",
   "metadata": {},
   "outputs": [],
   "source": []
  },
  {
   "cell_type": "code",
   "execution_count": 90,
   "id": "b2df2818-c16f-4051-925a-693f13e6c672",
   "metadata": {},
   "outputs": [
    {
     "name": "stdout",
     "output_type": "stream",
     "text": [
      "greatest_movie\n"
     ]
    }
   ],
   "source": [
    "# Set First Token\n",
    "previous_token = doc[0]\n",
    "for token in doc[1:]:\n",
    "    \n",
    "     #identify adjective noun pairs\n",
    "    if previous_token.pos_ == \"ADJ\" and token.pos_ == \"NOUN\" :\n",
    "         print(f'{previous_token.text}_{token.text}')\n",
    "    previous_token = token"
   ]
  },
  {
   "cell_type": "code",
   "execution_count": null,
   "id": "d14f4362-1321-47f0-a99c-a7963680d811",
   "metadata": {},
   "outputs": [],
   "source": []
  },
  {
   "cell_type": "code",
   "execution_count": 91,
   "id": "6029a6b6-78c3-4448-a0e4-c59aadf7832a",
   "metadata": {},
   "outputs": [
    {
     "name": "stdout",
     "output_type": "stream",
     "text": [
      "LABEL      | ENTITY         \n",
      "GPE        | India                                             \n",
      "PERSON     | Machine Learning                                  \n"
     ]
    }
   ],
   "source": [
    "ner_text = \"I love my country India, and I love Machine Learning\"\n",
    "ner_doc = nlp(ner_text)\n",
    "print('{:10} | {:15}'. format('LABEL', 'ENTITY'))\n",
    "for ent in ner_doc.ents:\n",
    "    print('{:10} | {:50}'.format(ent.label_, ent.text))"
   ]
  },
  {
   "cell_type": "code",
   "execution_count": null,
   "id": "c47e8135-7fe4-4e40-a220-4f485d14aee2",
   "metadata": {},
   "outputs": [],
   "source": []
  },
  {
   "cell_type": "code",
   "execution_count": 92,
   "id": "88900561-003c-4507-a861-446a99f564a0",
   "metadata": {},
   "outputs": [],
   "source": [
    "from spacy import displacy"
   ]
  },
  {
   "cell_type": "code",
   "execution_count": 93,
   "id": "d57487e8-a036-4946-89ce-fa016b0af033",
   "metadata": {},
   "outputs": [
    {
     "data": {
      "text/html": [
       "<span class=\"tex2jax_ignore\"><div class=\"entities\" style=\"line-height: 2.5; direction: ltr\">I love my country \n",
       "<mark class=\"entity\" style=\"background: #feca74; padding: 0.45em 0.6em; margin: 0 0.25em; line-height: 1; border-radius: 0.35em;\">\n",
       "    India\n",
       "    <span style=\"font-size: 0.8em; font-weight: bold; line-height: 1; border-radius: 0.35em; vertical-align: middle; margin-left: 0.5rem\">GPE</span>\n",
       "</mark>\n",
       ", and I love \n",
       "<mark class=\"entity\" style=\"background: #aa9cfc; padding: 0.45em 0.6em; margin: 0 0.25em; line-height: 1; border-radius: 0.35em;\">\n",
       "    Machine Learning\n",
       "    <span style=\"font-size: 0.8em; font-weight: bold; line-height: 1; border-radius: 0.35em; vertical-align: middle; margin-left: 0.5rem\">PERSON</span>\n",
       "</mark>\n",
       "</div></span>"
      ],
      "text/plain": [
       "<IPython.core.display.HTML object>"
      ]
     },
     "metadata": {},
     "output_type": "display_data"
    }
   ],
   "source": [
    "displacy.render(docs = ner_doc, style='ent', jupyter = True)"
   ]
  },
  {
   "cell_type": "code",
   "execution_count": null,
   "id": "09167f4a-f76e-4409-9ab7-b8d686268e80",
   "metadata": {},
   "outputs": [],
   "source": []
  },
  {
   "cell_type": "code",
   "execution_count": null,
   "id": "6e8bec0f-cea3-4f4c-b4ab-e7a1932d5b85",
   "metadata": {},
   "outputs": [],
   "source": []
  },
  {
   "cell_type": "code",
   "execution_count": null,
   "id": "414602be-fc0c-4bc6-8a63-b0f016d37da1",
   "metadata": {},
   "outputs": [],
   "source": []
  },
  {
   "cell_type": "code",
   "execution_count": null,
   "id": "85bd9a86-a6c1-45fc-9c49-9fa390246d47",
   "metadata": {},
   "outputs": [],
   "source": []
  },
  {
   "cell_type": "code",
   "execution_count": null,
   "id": "61a4b196-a71b-442c-9207-bcbe6c5ed020",
   "metadata": {},
   "outputs": [],
   "source": []
  },
  {
   "cell_type": "code",
   "execution_count": null,
   "id": "a8059ce0-77d4-4a15-81f2-3d2e0f2dfe02",
   "metadata": {},
   "outputs": [],
   "source": []
  },
  {
   "cell_type": "code",
   "execution_count": null,
   "id": "00da6e93-9fc8-45b5-8276-453a9cefc486",
   "metadata": {},
   "outputs": [],
   "source": []
  },
  {
   "cell_type": "code",
   "execution_count": null,
   "id": "1c5ce694-166f-4025-87e6-21ef25d2785e",
   "metadata": {},
   "outputs": [],
   "source": []
  },
  {
   "cell_type": "code",
   "execution_count": null,
   "id": "68f0d2d9-ae1b-4bb0-8af4-f153a2b1e894",
   "metadata": {},
   "outputs": [],
   "source": []
  },
  {
   "cell_type": "code",
   "execution_count": null,
   "id": "64eab05e-22d9-413c-8e9a-78d2fc18a592",
   "metadata": {},
   "outputs": [],
   "source": []
  },
  {
   "cell_type": "code",
   "execution_count": null,
   "id": "d50d286e-d3ab-463b-8a9f-11dfb7eb673d",
   "metadata": {},
   "outputs": [],
   "source": []
  },
  {
   "cell_type": "code",
   "execution_count": null,
   "id": "e8da7983-75b2-4b6e-bfbc-b28bb93630aa",
   "metadata": {},
   "outputs": [],
   "source": []
  },
  {
   "cell_type": "code",
   "execution_count": null,
   "id": "e9964317-f436-44f1-886b-441a028feadd",
   "metadata": {},
   "outputs": [],
   "source": []
  },
  {
   "cell_type": "code",
   "execution_count": null,
   "id": "e2b6ed60-27f4-419f-9f50-dfff286e4ac4",
   "metadata": {},
   "outputs": [],
   "source": []
  },
  {
   "cell_type": "code",
   "execution_count": null,
   "id": "36b0b960-a811-453f-932a-bf9bd36e53b8",
   "metadata": {},
   "outputs": [],
   "source": []
  },
  {
   "cell_type": "code",
   "execution_count": null,
   "id": "abae26a4-4c32-44a1-b0c6-a9b69cda4de3",
   "metadata": {},
   "outputs": [],
   "source": []
  },
  {
   "cell_type": "code",
   "execution_count": null,
   "id": "8758e9d1-04ce-4843-879a-8da8f5cedb59",
   "metadata": {},
   "outputs": [],
   "source": []
  },
  {
   "cell_type": "code",
   "execution_count": null,
   "id": "e6f0c5b9-33de-46af-8d79-5c4829b1704f",
   "metadata": {},
   "outputs": [],
   "source": []
  },
  {
   "cell_type": "code",
   "execution_count": null,
   "id": "c121f56c-6233-432b-ace0-08c36306f111",
   "metadata": {},
   "outputs": [],
   "source": []
  },
  {
   "cell_type": "code",
   "execution_count": null,
   "id": "fe1d3fd6-3cbf-49ef-ac91-913d8295dbe6",
   "metadata": {},
   "outputs": [],
   "source": []
  },
  {
   "cell_type": "code",
   "execution_count": null,
   "id": "4d63255d-f70c-413a-b3f5-f4b098aebc22",
   "metadata": {},
   "outputs": [],
   "source": []
  },
  {
   "cell_type": "code",
   "execution_count": null,
   "id": "d1b412c2-1be6-4737-aeff-54105c8788bd",
   "metadata": {},
   "outputs": [],
   "source": []
  },
  {
   "cell_type": "code",
   "execution_count": null,
   "id": "39480d27-5705-4bec-8659-23992495988d",
   "metadata": {},
   "outputs": [],
   "source": []
  },
  {
   "cell_type": "code",
   "execution_count": null,
   "id": "a9c713c6-9fbd-4f84-8c60-8e44941f35f4",
   "metadata": {},
   "outputs": [],
   "source": []
  },
  {
   "cell_type": "code",
   "execution_count": null,
   "id": "9b840e74-3ecd-4c90-aed6-2759a516c202",
   "metadata": {},
   "outputs": [],
   "source": []
  }
 ],
 "metadata": {
  "kernelspec": {
   "display_name": "Python 3 (ipykernel)",
   "language": "python",
   "name": "python3"
  },
  "language_info": {
   "codemirror_mode": {
    "name": "ipython",
    "version": 3
   },
   "file_extension": ".py",
   "mimetype": "text/x-python",
   "name": "python",
   "nbconvert_exporter": "python",
   "pygments_lexer": "ipython3",
   "version": "3.10.0"
  }
 },
 "nbformat": 4,
 "nbformat_minor": 5
}
