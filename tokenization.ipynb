{
 "cells": [
  {
   "cell_type": "code",
   "execution_count": 1,
   "id": "547cb926-4931-400e-8f78-3a9e28adbe00",
   "metadata": {},
   "outputs": [],
   "source": [
    "import nltk"
   ]
  },
  {
   "cell_type": "code",
   "execution_count": 2,
   "id": "116f0568-1b67-405b-8106-d649fa6df0b7",
   "metadata": {},
   "outputs": [
    {
     "name": "stderr",
     "output_type": "stream",
     "text": [
      "[nltk_data] Downloading package punkt to C:\\Users\\Alish\n",
      "[nltk_data]     Gautam\\AppData\\Roaming\\nltk_data...\n",
      "[nltk_data]   Package punkt is already up-to-date!\n"
     ]
    },
    {
     "data": {
      "text/plain": [
       "True"
      ]
     },
     "execution_count": 2,
     "metadata": {},
     "output_type": "execute_result"
    }
   ],
   "source": [
    "nltk.download('punkt')"
   ]
  },
  {
   "cell_type": "code",
   "execution_count": 5,
   "id": "0470349e-1be0-4ff3-b207-aa21a7d534c2",
   "metadata": {},
   "outputs": [],
   "source": [
    "text = 'Machine learning  is a field of artificial intelligence that focuses on developing systems that can learn from data and improve their performance without explicit programming.'"
   ]
  },
  {
   "cell_type": "code",
   "execution_count": 17,
   "id": "0132b462-41ce-42e2-91a2-b201876d7728",
   "metadata": {},
   "outputs": [],
   "source": [
    "ml = nltk.word_tokenize(text)"
   ]
  },
  {
   "cell_type": "code",
   "execution_count": null,
   "id": "2deb733a-35d3-482f-a189-c0cf975f11c3",
   "metadata": {},
   "outputs": [],
   "source": [
    "#Bigram"
   ]
  },
  {
   "cell_type": "code",
   "execution_count": 18,
   "id": "31799f3a-510a-4d31-a3ec-1368b0346dba",
   "metadata": {},
   "outputs": [
    {
     "data": {
      "text/plain": [
       "[('Machine', 'learning'),\n",
       " ('learning', 'is'),\n",
       " ('is', 'a'),\n",
       " ('a', 'field'),\n",
       " ('field', 'of'),\n",
       " ('of', 'artificial'),\n",
       " ('artificial', 'intelligence'),\n",
       " ('intelligence', 'that'),\n",
       " ('that', 'focuses'),\n",
       " ('focuses', 'on'),\n",
       " ('on', 'developing'),\n",
       " ('developing', 'systems'),\n",
       " ('systems', 'that'),\n",
       " ('that', 'can'),\n",
       " ('can', 'learn'),\n",
       " ('learn', 'from'),\n",
       " ('from', 'data'),\n",
       " ('data', 'and'),\n",
       " ('and', 'improve'),\n",
       " ('improve', 'their'),\n",
       " ('their', 'performance'),\n",
       " ('performance', 'without'),\n",
       " ('without', 'explicit'),\n",
       " ('explicit', 'programming'),\n",
       " ('programming', '.')]"
      ]
     },
     "execution_count": 18,
     "metadata": {},
     "output_type": "execute_result"
    }
   ],
   "source": [
    "list(nltk.bigrams(ml))"
   ]
  },
  {
   "cell_type": "code",
   "execution_count": 15,
   "id": "18017168-2227-4a39-b08b-df7a5dda1c0a",
   "metadata": {},
   "outputs": [],
   "source": [
    "#Trigrams"
   ]
  },
  {
   "cell_type": "code",
   "execution_count": 19,
   "id": "4865b63e-f29f-4f54-ae53-7b050dcaa585",
   "metadata": {},
   "outputs": [
    {
     "data": {
      "text/plain": [
       "[('Machine', 'learning', 'is'),\n",
       " ('learning', 'is', 'a'),\n",
       " ('is', 'a', 'field'),\n",
       " ('a', 'field', 'of'),\n",
       " ('field', 'of', 'artificial'),\n",
       " ('of', 'artificial', 'intelligence'),\n",
       " ('artificial', 'intelligence', 'that'),\n",
       " ('intelligence', 'that', 'focuses'),\n",
       " ('that', 'focuses', 'on'),\n",
       " ('focuses', 'on', 'developing'),\n",
       " ('on', 'developing', 'systems'),\n",
       " ('developing', 'systems', 'that'),\n",
       " ('systems', 'that', 'can'),\n",
       " ('that', 'can', 'learn'),\n",
       " ('can', 'learn', 'from'),\n",
       " ('learn', 'from', 'data'),\n",
       " ('from', 'data', 'and'),\n",
       " ('data', 'and', 'improve'),\n",
       " ('and', 'improve', 'their'),\n",
       " ('improve', 'their', 'performance'),\n",
       " ('their', 'performance', 'without'),\n",
       " ('performance', 'without', 'explicit'),\n",
       " ('without', 'explicit', 'programming'),\n",
       " ('explicit', 'programming', '.')]"
      ]
     },
     "execution_count": 19,
     "metadata": {},
     "output_type": "execute_result"
    }
   ],
   "source": [
    "list(nltk.trigrams(ml))"
   ]
  },
  {
   "cell_type": "code",
   "execution_count": null,
   "id": "44734d9c-7026-4267-9f0e-d7618cd73028",
   "metadata": {},
   "outputs": [],
   "source": []
  }
 ],
 "metadata": {
  "kernelspec": {
   "display_name": "Python 3 (ipykernel)",
   "language": "python",
   "name": "python3"
  },
  "language_info": {
   "codemirror_mode": {
    "name": "ipython",
    "version": 3
   },
   "file_extension": ".py",
   "mimetype": "text/x-python",
   "name": "python",
   "nbconvert_exporter": "python",
   "pygments_lexer": "ipython3",
   "version": "3.10.0"
  }
 },
 "nbformat": 4,
 "nbformat_minor": 5
}
