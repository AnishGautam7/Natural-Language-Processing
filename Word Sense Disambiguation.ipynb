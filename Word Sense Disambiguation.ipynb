{
 "cells": [
  {
   "cell_type": "markdown",
   "id": "3bacc8ef-8bf2-4702-8417-aa624c67adb9",
   "metadata": {},
   "source": [
    "## Word Sense Disambiguation"
   ]
  },
  {
   "cell_type": "code",
   "execution_count": 1,
   "id": "2f23edfb-f204-491f-b86d-f5cb43024d26",
   "metadata": {},
   "outputs": [],
   "source": [
    "import nltk\n",
    "from nltk.wsd import lesk\n",
    "from nltk.tokenize import word_tokenize"
   ]
  },
  {
   "cell_type": "code",
   "execution_count": 3,
   "id": "cd3eadc3-fb8a-46d4-8fde-19292de8b65c",
   "metadata": {},
   "outputs": [
    {
     "name": "stdout",
     "output_type": "stream",
     "text": [
      "Synset('jamming.n.01') deliberate radiation or reflection of electromagnetic energy for the purpose of disrupting enemy use of electronic devices or systems\n"
     ]
    }
   ],
   "source": [
    "a1 = lesk(word_tokenize(\"This building has a device to jam the signal\"),'jam')\n",
    "print(a1, a1.definition())"
   ]
  },
  {
   "cell_type": "code",
   "execution_count": 4,
   "id": "518c6c35-eced-4eab-9e4b-8a1f62ae0d60",
   "metadata": {},
   "outputs": [
    {
     "name": "stdout",
     "output_type": "stream",
     "text": [
      "Synset('jam.v.05') get stuck and immobilized\n"
     ]
    }
   ],
   "source": [
    "a2 = lesk(word_tokenize(\"I am stuck in a traffic jam\"),'jam')\n",
    "print(a2, a2.definition())"
   ]
  },
  {
   "cell_type": "code",
   "execution_count": 5,
   "id": "5350ac92-983f-4981-815b-76ca40be65c9",
   "metadata": {},
   "outputs": [
    {
     "name": "stdout",
     "output_type": "stream",
     "text": [
      "Synset('current.a.01') occurring in or belonging to the present time\n"
     ]
    }
   ],
   "source": [
    "a1 = lesk(word_tokenize(\"What is the current time\"),'current')\n",
    "print(a1, a1.definition())"
   ]
  },
  {
   "cell_type": "code",
   "execution_count": 6,
   "id": "a3681076-b062-4fc7-a0d7-f802f75d2419",
   "metadata": {},
   "outputs": [
    {
     "name": "stdout",
     "output_type": "stream",
     "text": [
      "Synset('stream.n.02') dominant course (suggestive of running water) of successive events or ideas\n"
     ]
    }
   ],
   "source": [
    "a2 = lesk(word_tokenize(\"air current\"),'current')\n",
    "print(a2, a2.definition())"
   ]
  },
  {
   "cell_type": "code",
   "execution_count": null,
   "id": "6298ca68-46e8-4943-91c7-f6a6c18c91ec",
   "metadata": {},
   "outputs": [],
   "source": []
  }
 ],
 "metadata": {
  "kernelspec": {
   "display_name": "Python 3 (ipykernel)",
   "language": "python",
   "name": "python3"
  },
  "language_info": {
   "codemirror_mode": {
    "name": "ipython",
    "version": 3
   },
   "file_extension": ".py",
   "mimetype": "text/x-python",
   "name": "python",
   "nbconvert_exporter": "python",
   "pygments_lexer": "ipython3",
   "version": "3.10.0"
  }
 },
 "nbformat": 4,
 "nbformat_minor": 5
}
